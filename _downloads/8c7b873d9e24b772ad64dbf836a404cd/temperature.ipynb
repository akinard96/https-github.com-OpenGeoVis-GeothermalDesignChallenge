{
  "cells": [
    {
      "cell_type": "code",
      "execution_count": null,
      "metadata": {
        "collapsed": false
      },
      "outputs": [],
      "source": [
        "%matplotlib inline"
      ]
    },
    {
      "cell_type": "markdown",
      "metadata": {},
      "source": [
        "\nTemperature Data\n~~~~~~~~~~~~~~~~\n"
      ]
    },
    {
      "cell_type": "code",
      "execution_count": null,
      "metadata": {
        "collapsed": false
      },
      "outputs": [],
      "source": [
        "# Import project package\nimport gdc19"
      ]
    },
    {
      "cell_type": "code",
      "execution_count": null,
      "metadata": {
        "collapsed": false
      },
      "outputs": [],
      "source": [
        "import vtki\nimport omf\nimport omfvtk\nimport pandas as pd\nimport numpy as np"
      ]
    },
    {
      "cell_type": "code",
      "execution_count": null,
      "metadata": {
        "collapsed": false
      },
      "outputs": [],
      "source": [
        "# Load the temperature data\n_temp = pd.read_csv(\n            gdc19.get_temperature_path('well_based_temperature.csv')\n            )\n_temp.head()"
      ]
    },
    {
      "cell_type": "code",
      "execution_count": null,
      "metadata": {
        "collapsed": false
      },
      "outputs": [],
      "source": [
        "temperature = omf.PointSetElement(\n    name='temperature',\n    description='cumulative record of one-dimensional temperature modeling '\\\n        'based off of well data. Temperature log data were exampled and '\\\n        'extrapolated below the bottom of a number of wells. Temperatures '\\\n        'are in degrees Celsius, and all location data are georeferenced to '\n        'UTM, zone 12N, NAD 83, NAVD 88.',\n    subtype='point',\n    geometry=omf.PointSetGeometry(\n        vertices=_temp[['x', 'y', 'z']].values\n    ),\n    data=[omf.ScalarData(\n        name='temperature (C)',\n        array=_temp['T'].values,\n        location='vertices'\n    ),]\n)\ntemperature.validate()"
      ]
    },
    {
      "cell_type": "code",
      "execution_count": null,
      "metadata": {
        "collapsed": false
      },
      "outputs": [],
      "source": [
        "omfvtk.wrap(temperature).plot(show_edges=False)"
      ]
    }
  ],
  "metadata": {
    "kernelspec": {
      "display_name": "Python 3",
      "language": "python",
      "name": "python3"
    },
    "language_info": {
      "codemirror_mode": {
        "name": "ipython",
        "version": 3
      },
      "file_extension": ".py",
      "mimetype": "text/x-python",
      "name": "python",
      "nbconvert_exporter": "python",
      "pygments_lexer": "ipython3",
      "version": "3.7.1"
    }
  },
  "nbformat": 4,
  "nbformat_minor": 0
}